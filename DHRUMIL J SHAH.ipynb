{
 "cells": [
  {
   "cell_type": "markdown",
   "id": "dedicated-uruguay",
   "metadata": {},
   "source": [
    "# SUPERVISED ML PREDICTION"
   ]
  },
  {
   "cell_type": "markdown",
   "id": "ordinary-wesley",
   "metadata": {},
   "source": [
    "In this task, we will be predicting the percentage score for students based upon their number of hours of study.\n",
    "For this, as below we will first import the dataset and then we have to perform regression analysis on its variable. By this analysis we will get an idea about the relation between the 2 variables. Then further we can run our ML model to get the predicted value. Finally, we will determine the mean difference between our actual values and predicted one. As this is a supervised learning task thus here input as well as output both are provided.\n",
    "\n",
    "Example of supervised learnings are weather forecasting, Performance prediction of any product in a specific market, etc."
   ]
  },
  {
   "cell_type": "markdown",
   "id": "stretch-creation",
   "metadata": {},
   "source": [
    "Importing all necessary liabraries"
   ]
  },
  {
   "cell_type": "code",
   "execution_count": 7,
   "id": "little-transport",
   "metadata": {},
   "outputs": [],
   "source": [
    "import pandas as pd\n",
    "import numpy as np\n",
    "from numpy import corrcoef\n",
    "import scipy.stats\n",
    "import matplotlib.pyplot as plt\n",
    "%matplotlib inline\n",
    "from sklearn.linear_model import LinearRegression\n",
    "from sklearn.model_selection import train_test_split"
   ]
  },
  {
   "cell_type": "code",
   "execution_count": 11,
   "id": "sudden-smoke",
   "metadata": {
    "scrolled": true
   },
   "outputs": [],
   "source": [
    "data = pd.read_excel(r\"F:/Dhrumil/r/TSF TASK/TASK~1.xlsx\")"
   ]
  },
  {
   "cell_type": "code",
   "execution_count": 12,
   "id": "pacific-right",
   "metadata": {
    "scrolled": true
   },
   "outputs": [
    {
     "data": {
      "text/plain": [
       "pandas.core.frame.DataFrame"
      ]
     },
     "execution_count": 12,
     "metadata": {},
     "output_type": "execute_result"
    }
   ],
   "source": [
    "type(data)"
   ]
  },
  {
   "cell_type": "code",
   "execution_count": 5,
   "id": "wooden-mississippi",
   "metadata": {},
   "outputs": [
    {
     "data": {
      "text/plain": [
       "(25, 2)"
      ]
     },
     "execution_count": 5,
     "metadata": {},
     "output_type": "execute_result"
    }
   ],
   "source": [
    "data.shape"
   ]
  },
  {
   "cell_type": "code",
   "execution_count": 6,
   "id": "elect-declaration",
   "metadata": {},
   "outputs": [
    {
     "data": {
      "text/html": [
       "<div>\n",
       "<style scoped>\n",
       "    .dataframe tbody tr th:only-of-type {\n",
       "        vertical-align: middle;\n",
       "    }\n",
       "\n",
       "    .dataframe tbody tr th {\n",
       "        vertical-align: top;\n",
       "    }\n",
       "\n",
       "    .dataframe thead th {\n",
       "        text-align: right;\n",
       "    }\n",
       "</style>\n",
       "<table border=\"1\" class=\"dataframe\">\n",
       "  <thead>\n",
       "    <tr style=\"text-align: right;\">\n",
       "      <th></th>\n",
       "      <th>Hours</th>\n",
       "      <th>Scores</th>\n",
       "    </tr>\n",
       "  </thead>\n",
       "  <tbody>\n",
       "    <tr>\n",
       "      <th>0</th>\n",
       "      <td>2.5</td>\n",
       "      <td>21</td>\n",
       "    </tr>\n",
       "    <tr>\n",
       "      <th>1</th>\n",
       "      <td>5.1</td>\n",
       "      <td>47</td>\n",
       "    </tr>\n",
       "    <tr>\n",
       "      <th>2</th>\n",
       "      <td>3.2</td>\n",
       "      <td>27</td>\n",
       "    </tr>\n",
       "    <tr>\n",
       "      <th>3</th>\n",
       "      <td>8.5</td>\n",
       "      <td>75</td>\n",
       "    </tr>\n",
       "    <tr>\n",
       "      <th>4</th>\n",
       "      <td>3.5</td>\n",
       "      <td>30</td>\n",
       "    </tr>\n",
       "  </tbody>\n",
       "</table>\n",
       "</div>"
      ],
      "text/plain": [
       "   Hours  Scores\n",
       "0    2.5      21\n",
       "1    5.1      47\n",
       "2    3.2      27\n",
       "3    8.5      75\n",
       "4    3.5      30"
      ]
     },
     "execution_count": 6,
     "metadata": {},
     "output_type": "execute_result"
    }
   ],
   "source": [
    "data.head()"
   ]
  },
  {
   "cell_type": "code",
   "execution_count": 7,
   "id": "adolescent-yorkshire",
   "metadata": {},
   "outputs": [
    {
     "data": {
      "text/html": [
       "<div>\n",
       "<style scoped>\n",
       "    .dataframe tbody tr th:only-of-type {\n",
       "        vertical-align: middle;\n",
       "    }\n",
       "\n",
       "    .dataframe tbody tr th {\n",
       "        vertical-align: top;\n",
       "    }\n",
       "\n",
       "    .dataframe thead th {\n",
       "        text-align: right;\n",
       "    }\n",
       "</style>\n",
       "<table border=\"1\" class=\"dataframe\">\n",
       "  <thead>\n",
       "    <tr style=\"text-align: right;\">\n",
       "      <th></th>\n",
       "      <th>Hours</th>\n",
       "      <th>Scores</th>\n",
       "    </tr>\n",
       "  </thead>\n",
       "  <tbody>\n",
       "    <tr>\n",
       "      <th>20</th>\n",
       "      <td>2.7</td>\n",
       "      <td>30</td>\n",
       "    </tr>\n",
       "    <tr>\n",
       "      <th>21</th>\n",
       "      <td>4.8</td>\n",
       "      <td>54</td>\n",
       "    </tr>\n",
       "    <tr>\n",
       "      <th>22</th>\n",
       "      <td>3.8</td>\n",
       "      <td>35</td>\n",
       "    </tr>\n",
       "    <tr>\n",
       "      <th>23</th>\n",
       "      <td>6.9</td>\n",
       "      <td>76</td>\n",
       "    </tr>\n",
       "    <tr>\n",
       "      <th>24</th>\n",
       "      <td>7.8</td>\n",
       "      <td>86</td>\n",
       "    </tr>\n",
       "  </tbody>\n",
       "</table>\n",
       "</div>"
      ],
      "text/plain": [
       "    Hours  Scores\n",
       "20    2.7      30\n",
       "21    4.8      54\n",
       "22    3.8      35\n",
       "23    6.9      76\n",
       "24    7.8      86"
      ]
     },
     "execution_count": 7,
     "metadata": {},
     "output_type": "execute_result"
    }
   ],
   "source": [
    "data.tail()"
   ]
  },
  {
   "cell_type": "markdown",
   "id": "conservative-scanning",
   "metadata": {},
   "source": [
    "As shown below, our data have 2 columns and 25 rows. Here, as number of study hours is independent variable thus we will plot it on x-axis, while dependent variable i.e. % scores will be on y-axis."
   ]
  },
  {
   "cell_type": "code",
   "execution_count": 25,
   "id": "identical-window",
   "metadata": {
    "scrolled": true
   },
   "outputs": [
    {
     "data": {
      "image/png": "[encoded data removed]",
      "text/plain": [
       "<Figure size 432x288 with 1 Axes>"
      ]
     },
     "metadata": {
      "needs_background": "light"
     },
     "output_type": "display_data"
    }
   ],
   "source": [
    "plt.scatter(data.Hours, data.Scores)\n",
    "m, b = np.polyfit(data.Hours, data.Scores, 1)\n",
    "plt.plot(data.Hours, m*data.Hours+b)\n",
    "plt.xlabel(\"Total Study Hours\")\n",
    "plt.ylabel(\"Total Scores in %\")\n",
    "plt.title(\"Regression Hours~%Scores\");"
   ]
  },
  {
   "cell_type": "code",
   "execution_count": 26,
   "id": "accepted-blues",
   "metadata": {},
   "outputs": [
    {
     "name": "stdout",
     "output_type": "stream",
     "text": [
      "r=  0.9761906560220884\n",
      "p=  9.132624467460325e-17\n"
     ]
    }
   ],
   "source": [
    "r, p = scipy.stats.pearsonr(data.Hours, data.Scores)\n",
    "print(\"r= \", r)\n",
    "print(\"p= \", p)"
   ]
  },
  {
   "cell_type": "markdown",
   "id": "original-cookie",
   "metadata": {},
   "source": [
    "Here the value of r is very close to 1. Thus, both the variable have a positive relationship with each other. Thus, one increases when the other will increase."
   ]
  },
  {
   "cell_type": "markdown",
   "id": "monetary-invalid",
   "metadata": {},
   "source": [
    "As here we came to know the relation between 2 variables, hence further we will split the data into train and test part and will run our ML model i.e. Linear Regression model, on the splited data."
   ]
  },
  {
   "cell_type": "code",
   "execution_count": 8,
   "id": "floating-specific",
   "metadata": {},
   "outputs": [],
   "source": [
    "x = data.iloc[:, :-1].values  #Accessing 1st column in 2D, Hours\n",
    "y = data.iloc[:, 1].values  #Accessing 2nd column in 1D, Scores\n",
    "\n",
    "x_train, x_test, y_train, y_test = train_test_split(x,y,test_size= 0.2)"
   ]
  },
  {
   "cell_type": "code",
   "execution_count": 9,
   "id": "dress-shield",
   "metadata": {
    "scrolled": true
   },
   "outputs": [
    {
     "data": {
      "text/plain": [
       "(25, 1)"
      ]
     },
     "execution_count": 9,
     "metadata": {},
     "output_type": "execute_result"
    }
   ],
   "source": [
    "x.shape"
   ]
  },
  {
   "cell_type": "code",
   "execution_count": 10,
   "id": "tribal-democrat",
   "metadata": {},
   "outputs": [
    {
     "data": {
      "text/plain": [
       "(25,)"
      ]
     },
     "execution_count": 10,
     "metadata": {},
     "output_type": "execute_result"
    }
   ],
   "source": [
    "y.shape"
   ]
  },
  {
   "cell_type": "markdown",
   "id": "advance-greeting",
   "metadata": {},
   "source": [
    "As shown above we had split the data into train and test part in such a way that they can have the individul shape as above."
   ]
  },
  {
   "cell_type": "code",
   "execution_count": 141,
   "id": "accredited-dividend",
   "metadata": {
    "scrolled": false
   },
   "outputs": [
    {
     "data": {
      "text/plain": [
       "LinearRegression()"
      ]
     },
     "execution_count": 141,
     "metadata": {},
     "output_type": "execute_result"
    }
   ],
   "source": [
    "model = LinearRegression()\n",
    "model.fit(x_train, y_train)"
   ]
  },
  {
   "cell_type": "markdown",
   "id": "superb-amateur",
   "metadata": {},
   "source": [
    "Comparing the actual score with predicted score for given number of hours of study."
   ]
  },
  {
   "cell_type": "code",
   "execution_count": 148,
   "id": "worldwide-bicycle",
   "metadata": {},
   "outputs": [
    {
     "data": {
      "text/html": [
       "<div>\n",
       "<style scoped>\n",
       "    .dataframe tbody tr th:only-of-type {\n",
       "        vertical-align: middle;\n",
       "    }\n",
       "\n",
       "    .dataframe tbody tr th {\n",
       "        vertical-align: top;\n",
       "    }\n",
       "\n",
       "    .dataframe thead th {\n",
       "        text-align: right;\n",
       "    }\n",
       "</style>\n",
       "<table border=\"1\" class=\"dataframe\">\n",
       "  <thead>\n",
       "    <tr style=\"text-align: right;\">\n",
       "      <th></th>\n",
       "      <th>Actual</th>\n",
       "      <th>Predicted</th>\n",
       "      <th>x_test</th>\n",
       "    </tr>\n",
       "  </thead>\n",
       "  <tbody>\n",
       "    <tr>\n",
       "      <th>0</th>\n",
       "      <td>25</td>\n",
       "      <td>29.737648</td>\n",
       "      <td>2.7</td>\n",
       "    </tr>\n",
       "    <tr>\n",
       "      <th>1</th>\n",
       "      <td>95</td>\n",
       "      <td>89.130733</td>\n",
       "      <td>8.9</td>\n",
       "    </tr>\n",
       "    <tr>\n",
       "      <th>2</th>\n",
       "      <td>30</td>\n",
       "      <td>29.737648</td>\n",
       "      <td>2.7</td>\n",
       "    </tr>\n",
       "    <tr>\n",
       "      <th>3</th>\n",
       "      <td>27</td>\n",
       "      <td>34.527413</td>\n",
       "      <td>3.2</td>\n",
       "    </tr>\n",
       "    <tr>\n",
       "      <th>4</th>\n",
       "      <td>88</td>\n",
       "      <td>92.004592</td>\n",
       "      <td>9.2</td>\n",
       "    </tr>\n",
       "  </tbody>\n",
       "</table>\n",
       "</div>"
      ],
      "text/plain": [
       "   Actual  Predicted  x_test\n",
       "0      25  29.737648     2.7\n",
       "1      95  89.130733     8.9\n",
       "2      30  29.737648     2.7\n",
       "3      27  34.527413     3.2\n",
       "4      88  92.004592     9.2"
      ]
     },
     "execution_count": 148,
     "metadata": {},
     "output_type": "execute_result"
    }
   ],
   "source": [
    "y_pred= model.predict(x_test)\n",
    "\n",
    "df = pd.DataFrame({'Actual': y_test, 'Predicted': y_pred})\n",
    "df['x_test']= x_test\n",
    "df"
   ]
  },
  {
   "cell_type": "code",
   "execution_count": 83,
   "id": "severe-luxembourg",
   "metadata": {
    "scrolled": true
   },
   "outputs": [
    {
     "data": {
      "text/plain": [
       "array([93.65556507])"
      ]
     },
     "execution_count": 83,
     "metadata": {},
     "output_type": "execute_result"
    }
   ],
   "source": [
    "hours = [[9.25]]\n",
    "prediction = model.predict(hours)\n",
    "prediction"
   ]
  },
  {
   "cell_type": "markdown",
   "id": "moving-liability",
   "metadata": {},
   "source": [
    "For the required 9.25 hours, our model will be predicting the score of 93.65%. Now, let's check the mean error in our prediction as below."
   ]
  },
  {
   "cell_type": "code",
   "execution_count": 96,
   "id": "painted-ordinance",
   "metadata": {},
   "outputs": [
    {
     "name": "stdout",
     "output_type": "stream",
     "text": [
      "Mean absolute error:  6.35\n"
     ]
    }
   ],
   "source": [
    "def mae(y_test, y_pred):\n",
    "    return np.mean(abs(y_test-y_pred))\n",
    "\n",
    "print(\"Mean absolute error: \", mae(y_test, y_pred).round(2))"
   ]
  },
  {
   "cell_type": "markdown",
   "id": "interim-review",
   "metadata": {},
   "source": [
    "Thus we can expect the mean error of 6.35% in our final prediction.\n",
    "\n",
    "As a result one can conclude that for 9.25 hrs of study, the score can be 93.65 (+/-) 6.35 %."
   ]
  },
  {
   "cell_type": "code",
   "execution_count": null,
   "id": "leading-clearing",
   "metadata": {},
   "outputs": [],
   "source": []
  }
 ],
 "metadata": {
  "kernelspec": {
   "display_name": "Python 3",
   "language": "python",
   "name": "python3"
  },
  "language_info": {
   "codemirror_mode": {
    "name": "ipython",
    "version": 3
   },
   "file_extension": ".py",
   "mimetype": "text/x-python",
   "name": "python",
   "nbconvert_exporter": "python",
   "pygments_lexer": "ipython3",
   "version": "3.9.2"
  }
 },
 "nbformat": 4,
 "nbformat_minor": 5
}
